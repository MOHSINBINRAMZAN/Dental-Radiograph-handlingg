{
 "cells": [
  {
   "cell_type": "code",
   "execution_count": 8,
   "metadata": {},
   "outputs": [
    {
     "data": {
      "text/html": [
       "<div>\n",
       "<style scoped>\n",
       "    .dataframe tbody tr th:only-of-type {\n",
       "        vertical-align: middle;\n",
       "    }\n",
       "\n",
       "    .dataframe tbody tr th {\n",
       "        vertical-align: top;\n",
       "    }\n",
       "\n",
       "    .dataframe thead th {\n",
       "        text-align: right;\n",
       "    }\n",
       "</style>\n",
       "<table border=\"1\" class=\"dataframe\">\n",
       "  <thead>\n",
       "    <tr style=\"text-align: right;\">\n",
       "      <th></th>\n",
       "      <th>filename</th>\n",
       "      <th>width</th>\n",
       "      <th>height</th>\n",
       "      <th>class</th>\n",
       "      <th>xmin</th>\n",
       "      <th>ymin</th>\n",
       "      <th>xmax</th>\n",
       "      <th>ymax</th>\n",
       "    </tr>\n",
       "  </thead>\n",
       "  <tbody>\n",
       "    <tr>\n",
       "      <th>0</th>\n",
       "      <td>0355_jpg.rf.e3e6daab192a51e715ef9fc3394f2a76.jpg</td>\n",
       "      <td>512</td>\n",
       "      <td>256</td>\n",
       "      <td>Fillings</td>\n",
       "      <td>186</td>\n",
       "      <td>85</td>\n",
       "      <td>209</td>\n",
       "      <td>129</td>\n",
       "    </tr>\n",
       "    <tr>\n",
       "      <th>1</th>\n",
       "      <td>0355_jpg.rf.e3e6daab192a51e715ef9fc3394f2a76.jpg</td>\n",
       "      <td>512</td>\n",
       "      <td>256</td>\n",
       "      <td>Fillings</td>\n",
       "      <td>167</td>\n",
       "      <td>93</td>\n",
       "      <td>188</td>\n",
       "      <td>128</td>\n",
       "    </tr>\n",
       "    <tr>\n",
       "      <th>2</th>\n",
       "      <td>0355_jpg.rf.e3e6daab192a51e715ef9fc3394f2a76.jpg</td>\n",
       "      <td>512</td>\n",
       "      <td>256</td>\n",
       "      <td>Fillings</td>\n",
       "      <td>143</td>\n",
       "      <td>93</td>\n",
       "      <td>170</td>\n",
       "      <td>130</td>\n",
       "    </tr>\n",
       "    <tr>\n",
       "      <th>3</th>\n",
       "      <td>0355_jpg.rf.e3e6daab192a51e715ef9fc3394f2a76.jpg</td>\n",
       "      <td>512</td>\n",
       "      <td>256</td>\n",
       "      <td>Fillings</td>\n",
       "      <td>127</td>\n",
       "      <td>132</td>\n",
       "      <td>155</td>\n",
       "      <td>182</td>\n",
       "    </tr>\n",
       "    <tr>\n",
       "      <th>4</th>\n",
       "      <td>0355_jpg.rf.e3e6daab192a51e715ef9fc3394f2a76.jpg</td>\n",
       "      <td>512</td>\n",
       "      <td>256</td>\n",
       "      <td>Implant</td>\n",
       "      <td>313</td>\n",
       "      <td>85</td>\n",
       "      <td>330</td>\n",
       "      <td>123</td>\n",
       "    </tr>\n",
       "  </tbody>\n",
       "</table>\n",
       "</div>"
      ],
      "text/plain": [
       "                                           filename  width  height     class  \\\n",
       "0  0355_jpg.rf.e3e6daab192a51e715ef9fc3394f2a76.jpg    512     256  Fillings   \n",
       "1  0355_jpg.rf.e3e6daab192a51e715ef9fc3394f2a76.jpg    512     256  Fillings   \n",
       "2  0355_jpg.rf.e3e6daab192a51e715ef9fc3394f2a76.jpg    512     256  Fillings   \n",
       "3  0355_jpg.rf.e3e6daab192a51e715ef9fc3394f2a76.jpg    512     256  Fillings   \n",
       "4  0355_jpg.rf.e3e6daab192a51e715ef9fc3394f2a76.jpg    512     256   Implant   \n",
       "\n",
       "   xmin  ymin  xmax  ymax  \n",
       "0   186    85   209   129  \n",
       "1   167    93   188   128  \n",
       "2   143    93   170   130  \n",
       "3   127   132   155   182  \n",
       "4   313    85   330   123  "
      ]
     },
     "execution_count": 8,
     "metadata": {},
     "output_type": "execute_result"
    }
   ],
   "source": [
    "import numpy as np\n",
    "import pandas as pd\n",
    "import matplotlib.pyplot as plt\n",
    "from pathlib import Path\n",
    "from scipy.io import wavfile\n",
    "import os.path\n",
    "import IPython.display\n",
    "import seaborn as sns\n",
    "import librosa\n",
    "import librosa.display\n",
    "import soundfile\n",
    "\n",
    "from sklearn.model_selection import train_test_split\n",
    "from sklearn.preprocessing import StandardScaler, LabelEncoder\n",
    "from sklearn.metrics import confusion_matrix\n",
    "\n",
    "import tensorflow as tf\n",
    "from tensorflow.keras import utils\n",
    "from keras.models import Sequential\n",
    "from keras.layers import Dense, Dropout, Activation, Conv1D, MaxPooling1D, Flatten, BatchNormalization\n",
    "from keras import optimizers\n",
    "\n",
    "\n",
    "# Load the data\n",
    "import pandas as pd\n",
    "df = pd.read_csv(\"C:\\\\Users\\\\mohsi\\\\Downloads\\\\archive\\\\valid\\\\_annotations.csv\")\n",
    "df.head()\n",
    "\n"
   ]
  },
  {
   "cell_type": "code",
   "execution_count": 9,
   "metadata": {},
   "outputs": [
    {
     "name": "stdout",
     "output_type": "stream",
     "text": [
      "<class 'pandas.core.frame.DataFrame'>\n",
      "RangeIndex: 780 entries, 0 to 779\n",
      "Data columns (total 8 columns):\n",
      " #   Column    Non-Null Count  Dtype \n",
      "---  ------    --------------  ----- \n",
      " 0   filename  780 non-null    object\n",
      " 1   width     780 non-null    int64 \n",
      " 2   height    780 non-null    int64 \n",
      " 3   class     780 non-null    object\n",
      " 4   xmin      780 non-null    int64 \n",
      " 5   ymin      780 non-null    int64 \n",
      " 6   xmax      780 non-null    int64 \n",
      " 7   ymax      780 non-null    int64 \n",
      "dtypes: int64(6), object(2)\n",
      "memory usage: 48.9+ KB\n",
      "None\n"
     ]
    }
   ],
   "source": [
    "print(df.info())"
   ]
  },
  {
   "cell_type": "markdown",
   "metadata": {},
   "source": [
    "The annotation data have multiple rows for one image means that one image contain more that one classes\n",
    "After getting the corresponding cropped image according to a unique row and corresponding image the size will be different so there is a need to filter low area images for further processing as there are images with 0 area such that either width or height is zero"
   ]
  },
  {
   "cell_type": "code",
   "execution_count": 11,
   "metadata": {},
   "outputs": [
    {
     "data": {
      "text/html": [
       "<div>\n",
       "<style scoped>\n",
       "    .dataframe tbody tr th:only-of-type {\n",
       "        vertical-align: middle;\n",
       "    }\n",
       "\n",
       "    .dataframe tbody tr th {\n",
       "        vertical-align: top;\n",
       "    }\n",
       "\n",
       "    .dataframe thead th {\n",
       "        text-align: right;\n",
       "    }\n",
       "</style>\n",
       "<table border=\"1\" class=\"dataframe\">\n",
       "  <thead>\n",
       "    <tr style=\"text-align: right;\">\n",
       "      <th></th>\n",
       "      <th>filename</th>\n",
       "      <th>width</th>\n",
       "      <th>height</th>\n",
       "      <th>class</th>\n",
       "      <th>xmin</th>\n",
       "      <th>ymin</th>\n",
       "      <th>xmax</th>\n",
       "      <th>ymax</th>\n",
       "      <th>cropped_image_width</th>\n",
       "      <th>cropped_image_height</th>\n",
       "      <th>Area</th>\n",
       "    </tr>\n",
       "  </thead>\n",
       "  <tbody>\n",
       "    <tr>\n",
       "      <th>0</th>\n",
       "      <td>0355_jpg.rf.e3e6daab192a51e715ef9fc3394f2a76.jpg</td>\n",
       "      <td>512</td>\n",
       "      <td>256</td>\n",
       "      <td>Fillings</td>\n",
       "      <td>186</td>\n",
       "      <td>85</td>\n",
       "      <td>209</td>\n",
       "      <td>129</td>\n",
       "      <td>23</td>\n",
       "      <td>44</td>\n",
       "      <td>1012</td>\n",
       "    </tr>\n",
       "    <tr>\n",
       "      <th>1</th>\n",
       "      <td>0355_jpg.rf.e3e6daab192a51e715ef9fc3394f2a76.jpg</td>\n",
       "      <td>512</td>\n",
       "      <td>256</td>\n",
       "      <td>Fillings</td>\n",
       "      <td>167</td>\n",
       "      <td>93</td>\n",
       "      <td>188</td>\n",
       "      <td>128</td>\n",
       "      <td>21</td>\n",
       "      <td>35</td>\n",
       "      <td>735</td>\n",
       "    </tr>\n",
       "    <tr>\n",
       "      <th>2</th>\n",
       "      <td>0355_jpg.rf.e3e6daab192a51e715ef9fc3394f2a76.jpg</td>\n",
       "      <td>512</td>\n",
       "      <td>256</td>\n",
       "      <td>Fillings</td>\n",
       "      <td>143</td>\n",
       "      <td>93</td>\n",
       "      <td>170</td>\n",
       "      <td>130</td>\n",
       "      <td>27</td>\n",
       "      <td>37</td>\n",
       "      <td>999</td>\n",
       "    </tr>\n",
       "    <tr>\n",
       "      <th>3</th>\n",
       "      <td>0355_jpg.rf.e3e6daab192a51e715ef9fc3394f2a76.jpg</td>\n",
       "      <td>512</td>\n",
       "      <td>256</td>\n",
       "      <td>Fillings</td>\n",
       "      <td>127</td>\n",
       "      <td>132</td>\n",
       "      <td>155</td>\n",
       "      <td>182</td>\n",
       "      <td>28</td>\n",
       "      <td>50</td>\n",
       "      <td>1400</td>\n",
       "    </tr>\n",
       "    <tr>\n",
       "      <th>4</th>\n",
       "      <td>0355_jpg.rf.e3e6daab192a51e715ef9fc3394f2a76.jpg</td>\n",
       "      <td>512</td>\n",
       "      <td>256</td>\n",
       "      <td>Implant</td>\n",
       "      <td>313</td>\n",
       "      <td>85</td>\n",
       "      <td>330</td>\n",
       "      <td>123</td>\n",
       "      <td>17</td>\n",
       "      <td>38</td>\n",
       "      <td>646</td>\n",
       "    </tr>\n",
       "  </tbody>\n",
       "</table>\n",
       "</div>"
      ],
      "text/plain": [
       "                                           filename  width  height     class  \\\n",
       "0  0355_jpg.rf.e3e6daab192a51e715ef9fc3394f2a76.jpg    512     256  Fillings   \n",
       "1  0355_jpg.rf.e3e6daab192a51e715ef9fc3394f2a76.jpg    512     256  Fillings   \n",
       "2  0355_jpg.rf.e3e6daab192a51e715ef9fc3394f2a76.jpg    512     256  Fillings   \n",
       "3  0355_jpg.rf.e3e6daab192a51e715ef9fc3394f2a76.jpg    512     256  Fillings   \n",
       "4  0355_jpg.rf.e3e6daab192a51e715ef9fc3394f2a76.jpg    512     256   Implant   \n",
       "\n",
       "   xmin  ymin  xmax  ymax  cropped_image_width  cropped_image_height  Area  \n",
       "0   186    85   209   129                   23                    44  1012  \n",
       "1   167    93   188   128                   21                    35   735  \n",
       "2   143    93   170   130                   27                    37   999  \n",
       "3   127   132   155   182                   28                    50  1400  \n",
       "4   313    85   330   123                   17                    38   646  "
      ]
     },
     "execution_count": 11,
     "metadata": {},
     "output_type": "execute_result"
    }
   ],
   "source": [
    "# Assuming df_valid is a DataFrame that has been defined previously\n",
    "df['cropped_image_width'] = df['xmax'] - df['xmin']\n",
    "df['cropped_image_height'] = df['ymax'] - df['ymin']\n",
    "df['Area'] = df['cropped_image_width'] * df['cropped_image_height']\n",
    "df['Area'] = df['cropped_image_width']*df['cropped_image_height']\n",
    "df.head()"
   ]
  },
  {
   "cell_type": "markdown",
   "metadata": {},
   "source": [
    "There is a need to select the optimum area threshold to select only certain images because if the low area image is resized to a reasonably high resoution it will disturb the analysis"
   ]
  },
  {
   "cell_type": "code",
   "execution_count": 13,
   "metadata": {},
   "outputs": [
    {
     "data": {
      "text/plain": [
       "Index(['filename', 'width', 'height', 'class', 'xmin', 'ymin', 'xmax', 'ymax',\n",
       "       'cropped_image_width', 'cropped_image_height', 'Area'],\n",
       "      dtype='object')"
      ]
     },
     "execution_count": 13,
     "metadata": {},
     "output_type": "execute_result"
    }
   ],
   "source": [
    "df.columns"
   ]
  },
  {
   "cell_type": "code",
   "execution_count": 14,
   "metadata": {},
   "outputs": [],
   "source": [
    "# Filter the Data to select the interquartile data only(Area 25th to 75th percentile)\n",
    "# You may use different range but obective is to not include the minimum areas\n",
    "\n",
    "df = df[(df.Area >= df.Area.quantile(0.25)) & (df.Area <= df.Area.quantile(0.75))]"
   ]
  },
  {
   "cell_type": "markdown",
   "metadata": {},
   "source": [
    "Repeat procedure for train and test"
   ]
  },
  {
   "cell_type": "code",
   "execution_count": 15,
   "metadata": {},
   "outputs": [
    {
     "data": {
      "text/html": [
       "<div>\n",
       "<style scoped>\n",
       "    .dataframe tbody tr th:only-of-type {\n",
       "        vertical-align: middle;\n",
       "    }\n",
       "\n",
       "    .dataframe tbody tr th {\n",
       "        vertical-align: top;\n",
       "    }\n",
       "\n",
       "    .dataframe thead th {\n",
       "        text-align: right;\n",
       "    }\n",
       "</style>\n",
       "<table border=\"1\" class=\"dataframe\">\n",
       "  <thead>\n",
       "    <tr style=\"text-align: right;\">\n",
       "      <th></th>\n",
       "      <th>filename</th>\n",
       "      <th>width</th>\n",
       "      <th>height</th>\n",
       "      <th>class</th>\n",
       "      <th>xmin</th>\n",
       "      <th>ymin</th>\n",
       "      <th>xmax</th>\n",
       "      <th>ymax</th>\n",
       "      <th>cropped_image_width</th>\n",
       "      <th>cropped_image_height</th>\n",
       "      <th>Area</th>\n",
       "    </tr>\n",
       "  </thead>\n",
       "  <tbody>\n",
       "    <tr>\n",
       "      <th>5</th>\n",
       "      <td>0136_jpg.rf.03e2aec8ec77594665dd1abc68d47bd3.jpg</td>\n",
       "      <td>512</td>\n",
       "      <td>256</td>\n",
       "      <td>Fillings</td>\n",
       "      <td>164</td>\n",
       "      <td>158</td>\n",
       "      <td>195</td>\n",
       "      <td>197</td>\n",
       "      <td>31</td>\n",
       "      <td>39</td>\n",
       "      <td>1209</td>\n",
       "    </tr>\n",
       "    <tr>\n",
       "      <th>8</th>\n",
       "      <td>0136_jpg.rf.03e2aec8ec77594665dd1abc68d47bd3.jpg</td>\n",
       "      <td>512</td>\n",
       "      <td>256</td>\n",
       "      <td>Fillings</td>\n",
       "      <td>331</td>\n",
       "      <td>111</td>\n",
       "      <td>354</td>\n",
       "      <td>150</td>\n",
       "      <td>23</td>\n",
       "      <td>39</td>\n",
       "      <td>897</td>\n",
       "    </tr>\n",
       "    <tr>\n",
       "      <th>9</th>\n",
       "      <td>0136_jpg.rf.03e2aec8ec77594665dd1abc68d47bd3.jpg</td>\n",
       "      <td>512</td>\n",
       "      <td>256</td>\n",
       "      <td>Fillings</td>\n",
       "      <td>310</td>\n",
       "      <td>110</td>\n",
       "      <td>332</td>\n",
       "      <td>152</td>\n",
       "      <td>22</td>\n",
       "      <td>42</td>\n",
       "      <td>924</td>\n",
       "    </tr>\n",
       "    <tr>\n",
       "      <th>10</th>\n",
       "      <td>0136_jpg.rf.03e2aec8ec77594665dd1abc68d47bd3.jpg</td>\n",
       "      <td>512</td>\n",
       "      <td>256</td>\n",
       "      <td>Fillings</td>\n",
       "      <td>185</td>\n",
       "      <td>111</td>\n",
       "      <td>204</td>\n",
       "      <td>152</td>\n",
       "      <td>19</td>\n",
       "      <td>41</td>\n",
       "      <td>779</td>\n",
       "    </tr>\n",
       "    <tr>\n",
       "      <th>13</th>\n",
       "      <td>0507_jpg.rf.07ca548c6eb4f61c76f1629e7bc26fa4.jpg</td>\n",
       "      <td>512</td>\n",
       "      <td>256</td>\n",
       "      <td>Fillings</td>\n",
       "      <td>251</td>\n",
       "      <td>91</td>\n",
       "      <td>272</td>\n",
       "      <td>148</td>\n",
       "      <td>21</td>\n",
       "      <td>57</td>\n",
       "      <td>1197</td>\n",
       "    </tr>\n",
       "  </tbody>\n",
       "</table>\n",
       "</div>"
      ],
      "text/plain": [
       "                                            filename  width  height     class  \\\n",
       "5   0136_jpg.rf.03e2aec8ec77594665dd1abc68d47bd3.jpg    512     256  Fillings   \n",
       "8   0136_jpg.rf.03e2aec8ec77594665dd1abc68d47bd3.jpg    512     256  Fillings   \n",
       "9   0136_jpg.rf.03e2aec8ec77594665dd1abc68d47bd3.jpg    512     256  Fillings   \n",
       "10  0136_jpg.rf.03e2aec8ec77594665dd1abc68d47bd3.jpg    512     256  Fillings   \n",
       "13  0507_jpg.rf.07ca548c6eb4f61c76f1629e7bc26fa4.jpg    512     256  Fillings   \n",
       "\n",
       "    xmin  ymin  xmax  ymax  cropped_image_width  cropped_image_height  Area  \n",
       "5    164   158   195   197                   31                    39  1209  \n",
       "8    331   111   354   150                   23                    39   897  \n",
       "9    310   110   332   152                   22                    42   924  \n",
       "10   185   111   204   152                   19                    41   779  \n",
       "13   251    91   272   148                   21                    57  1197  "
      ]
     },
     "execution_count": 15,
     "metadata": {},
     "output_type": "execute_result"
    }
   ],
   "source": [
    "df_test = pd.read_csv('C:\\\\Users\\\\mohsi\\\\Downloads\\\\archive\\\\test\\\\_annotations.csv')\n",
    "# There is a need to find the optimum width and heigth of cropped image\n",
    "df_test['cropped_image_width'] = df_test['xmax']-df_test['xmin']\n",
    "df_test['cropped_image_height'] = df_test['ymax']-df_test['ymin']\n",
    "df_test['Area'] = df_test['cropped_image_width']*df_test['cropped_image_height']\n",
    "\n",
    "# Filter the Data to select the interquartile data only(Area 25th to 75th percentile)\n",
    "# You may use different range but obective is to not include the minimum areas\n",
    "\n",
    "df_test = df_test[(df_test.Area >= df_test.Area.quantile(0.25)) & (df_test.Area <= df_test.Area.quantile(0.75))]\n",
    "df_test.head()"
   ]
  },
  {
   "cell_type": "code",
   "execution_count": 16,
   "metadata": {},
   "outputs": [
    {
     "data": {
      "text/html": [
       "<div>\n",
       "<style scoped>\n",
       "    .dataframe tbody tr th:only-of-type {\n",
       "        vertical-align: middle;\n",
       "    }\n",
       "\n",
       "    .dataframe tbody tr th {\n",
       "        vertical-align: top;\n",
       "    }\n",
       "\n",
       "    .dataframe thead th {\n",
       "        text-align: right;\n",
       "    }\n",
       "</style>\n",
       "<table border=\"1\" class=\"dataframe\">\n",
       "  <thead>\n",
       "    <tr style=\"text-align: right;\">\n",
       "      <th></th>\n",
       "      <th>filename</th>\n",
       "      <th>width</th>\n",
       "      <th>height</th>\n",
       "      <th>class</th>\n",
       "      <th>xmin</th>\n",
       "      <th>ymin</th>\n",
       "      <th>xmax</th>\n",
       "      <th>ymax</th>\n",
       "      <th>cropped_image_width</th>\n",
       "      <th>cropped_image_height</th>\n",
       "      <th>Area</th>\n",
       "    </tr>\n",
       "  </thead>\n",
       "  <tbody>\n",
       "    <tr>\n",
       "      <th>0</th>\n",
       "      <td>0674_jpg.rf.e02a155a0c135687b9301ff9a20d220a.jpg</td>\n",
       "      <td>512</td>\n",
       "      <td>256</td>\n",
       "      <td>Implant</td>\n",
       "      <td>175</td>\n",
       "      <td>116</td>\n",
       "      <td>206</td>\n",
       "      <td>153</td>\n",
       "      <td>31</td>\n",
       "      <td>37</td>\n",
       "      <td>1147</td>\n",
       "    </tr>\n",
       "    <tr>\n",
       "      <th>3</th>\n",
       "      <td>0674_jpg.rf.e02a155a0c135687b9301ff9a20d220a.jpg</td>\n",
       "      <td>512</td>\n",
       "      <td>256</td>\n",
       "      <td>Implant</td>\n",
       "      <td>302</td>\n",
       "      <td>126</td>\n",
       "      <td>329</td>\n",
       "      <td>175</td>\n",
       "      <td>27</td>\n",
       "      <td>49</td>\n",
       "      <td>1323</td>\n",
       "    </tr>\n",
       "    <tr>\n",
       "      <th>4</th>\n",
       "      <td>0674_jpg.rf.e02a155a0c135687b9301ff9a20d220a.jpg</td>\n",
       "      <td>512</td>\n",
       "      <td>256</td>\n",
       "      <td>Implant</td>\n",
       "      <td>335</td>\n",
       "      <td>114</td>\n",
       "      <td>360</td>\n",
       "      <td>154</td>\n",
       "      <td>25</td>\n",
       "      <td>40</td>\n",
       "      <td>1000</td>\n",
       "    </tr>\n",
       "    <tr>\n",
       "      <th>7</th>\n",
       "      <td>0674_jpg.rf.e02a155a0c135687b9301ff9a20d220a.jpg</td>\n",
       "      <td>512</td>\n",
       "      <td>256</td>\n",
       "      <td>Fillings</td>\n",
       "      <td>311</td>\n",
       "      <td>58</td>\n",
       "      <td>330</td>\n",
       "      <td>109</td>\n",
       "      <td>19</td>\n",
       "      <td>51</td>\n",
       "      <td>969</td>\n",
       "    </tr>\n",
       "    <tr>\n",
       "      <th>13</th>\n",
       "      <td>0271_jpg.rf.e18d2d727c6d0c029f5b6024f39058d6.jpg</td>\n",
       "      <td>512</td>\n",
       "      <td>256</td>\n",
       "      <td>Fillings</td>\n",
       "      <td>140</td>\n",
       "      <td>114</td>\n",
       "      <td>161</td>\n",
       "      <td>164</td>\n",
       "      <td>21</td>\n",
       "      <td>50</td>\n",
       "      <td>1050</td>\n",
       "    </tr>\n",
       "  </tbody>\n",
       "</table>\n",
       "</div>"
      ],
      "text/plain": [
       "                                            filename  width  height     class  \\\n",
       "0   0674_jpg.rf.e02a155a0c135687b9301ff9a20d220a.jpg    512     256   Implant   \n",
       "3   0674_jpg.rf.e02a155a0c135687b9301ff9a20d220a.jpg    512     256   Implant   \n",
       "4   0674_jpg.rf.e02a155a0c135687b9301ff9a20d220a.jpg    512     256   Implant   \n",
       "7   0674_jpg.rf.e02a155a0c135687b9301ff9a20d220a.jpg    512     256  Fillings   \n",
       "13  0271_jpg.rf.e18d2d727c6d0c029f5b6024f39058d6.jpg    512     256  Fillings   \n",
       "\n",
       "    xmin  ymin  xmax  ymax  cropped_image_width  cropped_image_height  Area  \n",
       "0    175   116   206   153                   31                    37  1147  \n",
       "3    302   126   329   175                   27                    49  1323  \n",
       "4    335   114   360   154                   25                    40  1000  \n",
       "7    311    58   330   109                   19                    51   969  \n",
       "13   140   114   161   164                   21                    50  1050  "
      ]
     },
     "execution_count": 16,
     "metadata": {},
     "output_type": "execute_result"
    }
   ],
   "source": [
    "df_train = pd.read_csv('C:\\\\Users\\\\mohsi\\\\Downloads\\\\archive\\\\train\\\\_annotations.csv')\n",
    "\n",
    "# There is a need to find the optimum width and heigth of cropped image\n",
    "df_train['cropped_image_width'] = df_train['xmax']-df_train['xmin']\n",
    "df_train['cropped_image_height'] = df_train['ymax']-df_train['ymin']\n",
    "df_train['Area'] = df_train['cropped_image_width']*df_train['cropped_image_height']\n",
    "# Filter the Data to select the interquartile data only(Area 25th to 75th percentile)\n",
    "# You may use different range but obective is to not include the minimum areas\n",
    "\n",
    "df_train = df_train[(df_train.Area >= df_train.Area.quantile(0.25)) & (df_train.Area <= df_train.Area.quantile(0.75))]\n",
    "df_train.head()\n"
   ]
  },
  {
   "cell_type": "markdown",
   "metadata": {},
   "source": [
    "handling mising values"
   ]
  },
  {
   "cell_type": "code",
   "execution_count": 17,
   "metadata": {},
   "outputs": [
    {
     "data": {
      "text/plain": [
       "filename                0\n",
       "width                   0\n",
       "height                  0\n",
       "class                   0\n",
       "xmin                    0\n",
       "ymin                    0\n",
       "xmax                    0\n",
       "ymax                    0\n",
       "cropped_image_width     0\n",
       "cropped_image_height    0\n",
       "Area                    0\n",
       "dtype: int64"
      ]
     },
     "execution_count": 17,
     "metadata": {},
     "output_type": "execute_result"
    }
   ],
   "source": [
    "df_train.isnull().sum()"
   ]
  },
  {
   "cell_type": "markdown",
   "metadata": {},
   "source": [
    "images processing "
   ]
  },
  {
   "cell_type": "code",
   "execution_count": 22,
   "metadata": {},
   "outputs": [
    {
     "name": "stdout",
     "output_type": "stream",
     "text": [
      "(237, 50, 50)\n",
      "(237,)\n"
     ]
    }
   ],
   "source": [
    "dirname = r'C:\\\\Users\\\\mohsi\\\\Downloads\\\\archive\\\\test'\n",
    "filenames = [filename for filename in os.listdir(dirname) if filename.endswith(\".jpg\")]\n",
    "image_list = []\n",
    "label_list = []\n",
    "# Define the desired image size\n",
    "desired_width = 50\n",
    "desired_height = 50\n",
    "for filename in filenames:\n",
    "    img_df = df_test[df_test.filename == filename]\n",
    "    image = cv2.imread(os.path.join(dirname,filename))\n",
    "    # Convert the image to grayscale\n",
    "    gray_image = cv2.cvtColor(image, cv2.COLOR_BGR2GRAY)\n",
    "    # Iterate over each row in the dataframe\n",
    "    for index, row in img_df.iterrows():\n",
    "        # Extract crop parameters\n",
    "        xmin = row['xmin']\n",
    "        xmax = row['xmax']\n",
    "        ymin = row['ymin']\n",
    "        ymax = row['ymax']\n",
    "        # Crop the image\n",
    "        cropped_image = gray_image[ymin:ymax, xmin:xmax]\n",
    "        # Resize the cropped image\n",
    "        resized_image = cv2.resize(cropped_image, (desired_width, desired_height))\n",
    "        image_list.append(resized_image)\n",
    "        label_list.append(row['class'])\n",
    "image_list_test = np.array(image_list)\n",
    "label_list_test = np.array(label_list)\n",
    "print(image_list_test.shape)\n",
    "print(label_list_test.shape)"
   ]
  },
  {
   "cell_type": "code",
   "execution_count": 24,
   "metadata": {},
   "outputs": [
    {
     "name": "stdout",
     "output_type": "stream",
     "text": [
      "(392, 50, 50)\n",
      "(392,)\n"
     ]
    }
   ],
   "source": [
    "dirname = 'C:\\\\Users\\\\mohsi\\\\Downloads\\\\archive\\\\valid'\n",
    "filenames = [filename for filename in os.listdir(dirname) if filename.endswith(\".jpg\")]\n",
    "image_list = []\n",
    "label_list = []\n",
    "# Define the desired image size\n",
    "desired_width = 50\n",
    "desired_height = 50\n",
    "for filename in filenames:\n",
    "    img_df = df[df.filename == filename]\n",
    "    image = cv2.imread(os.path.join(dirname,filename))\n",
    "    # Convert the image to grayscale\n",
    "    gray_image = cv2.cvtColor(image, cv2.COLOR_BGR2GRAY)\n",
    "    # Iterate over each row in the dataframe\n",
    "    for index, row in img_df.iterrows():\n",
    "        # Extract crop parameters\n",
    "        xmin = row['xmin']\n",
    "        xmax = row['xmax']\n",
    "        ymin = row['ymin']\n",
    "        ymax = row['ymax']\n",
    "        # Crop the image\n",
    "        cropped_image = gray_image[ymin:ymax, xmin:xmax]\n",
    "        # Resize the cropped image\n",
    "        resized_image = cv2.resize(cropped_image, (desired_width, desired_height))\n",
    "        image_list.append(resized_image)\n",
    "        label_list.append(row['class'])\n",
    "image_list_valid = np.array(image_list)\n",
    "label_list_valid = np.array(label_list)\n",
    "print(image_list_valid.shape)\n",
    "print(label_list_valid.shape)"
   ]
  },
  {
   "cell_type": "code",
   "execution_count": 25,
   "metadata": {},
   "outputs": [
    {
     "name": "stdout",
     "output_type": "stream",
     "text": [
      "(4023, 50, 50)\n",
      "(4023,)\n"
     ]
    }
   ],
   "source": [
    "dirname = 'C:\\\\Users\\\\mohsi\\\\Downloads\\\\archive\\\\train'\n",
    "filenames = [filename for filename in os.listdir(dirname) if filename.endswith(\".jpg\")]\n",
    "image_list = []\n",
    "label_list = []\n",
    "# Define the desired image size\n",
    "desired_width = 50\n",
    "desired_height = 50\n",
    "for filename in filenames:\n",
    "    img_df = df_train[df_train.filename == filename]\n",
    "    image = cv2.imread(os.path.join(dirname,filename))\n",
    "    # Convert the image to grayscale\n",
    "    gray_image = cv2.cvtColor(image, cv2.COLOR_BGR2GRAY)\n",
    "    # Iterate over each row in the dataframe\n",
    "    for index, row in img_df.iterrows():\n",
    "        # Extract crop parameters\n",
    "        xmin = row['xmin']\n",
    "        xmax = row['xmax']\n",
    "        ymin = row['ymin']\n",
    "        ymax = row['ymax']\n",
    "        # Crop the image\n",
    "        cropped_image = gray_image[ymin:ymax, xmin:xmax]\n",
    "        # Resize the cropped image\n",
    "        resized_image = cv2.resize(cropped_image, (desired_width, desired_height))\n",
    "        image_list.append(resized_image)\n",
    "        label_list.append(row['class'])\n",
    "image_list_train = np.array(image_list)\n",
    "label_list_train = np.array(label_list)\n",
    "print(image_list_train.shape)\n",
    "print(label_list_train.shape)"
   ]
  },
  {
   "cell_type": "markdown",
   "metadata": {},
   "source": [
    "one hot encoding"
   ]
  },
  {
   "cell_type": "code",
   "execution_count": 26,
   "metadata": {},
   "outputs": [],
   "source": [
    "from sklearn.preprocessing import OneHotEncoder\n",
    "# Create an instance of the OneHotEncoder\n",
    "encoder = OneHotEncoder()\n",
    "\n",
    "# Reshape the label array to be a column vector\n",
    "labels_reshaped = label_list_train.reshape(-1, 1)\n",
    "\n",
    "# Fit and transform the label array using the OneHotEncoder\n",
    "one_hot_encoded = encoder.fit_transform(labels_reshaped)\n",
    "\n",
    "# Convert the sparse matrix to a dense array\n",
    "one_hot_encoded_array = one_hot_encoded.toarray()\n",
    "\n",
    "lable_y_train = one_hot_encoded_array"
   ]
  },
  {
   "cell_type": "code",
   "execution_count": 27,
   "metadata": {},
   "outputs": [],
   "source": [
    "encoder = OneHotEncoder()\n",
    "\n",
    "# Reshape the label array to be a column vector\n",
    "labels_reshaped = label_list_test.reshape(-1, 1)\n",
    "\n",
    "# Fit and transform the label array using the OneHotEncoder\n",
    "one_hot_encoded = encoder.fit_transform(labels_reshaped)\n",
    "\n",
    "# Convert the sparse matrix to a dense array\n",
    "one_hot_encoded_array = one_hot_encoded.toarray()\n",
    "\n",
    "lable_y_test = one_hot_encoded_array"
   ]
  },
  {
   "cell_type": "code",
   "execution_count": 28,
   "metadata": {},
   "outputs": [
    {
     "data": {
      "text/plain": [
       "(392, 4)"
      ]
     },
     "execution_count": 28,
     "metadata": {},
     "output_type": "execute_result"
    }
   ],
   "source": [
    "encoder = OneHotEncoder()\n",
    "\n",
    "# Reshape the label array to be a column vector\n",
    "labels_reshaped = label_list_valid.reshape(-1, 1)\n",
    "\n",
    "# Fit and transform the label array using the OneHotEncoder\n",
    "one_hot_encoded = encoder.fit_transform(labels_reshaped)\n",
    "\n",
    "# Convert the sparse matrix to a dense array\n",
    "one_hot_encoded_array = one_hot_encoded.toarray()\n",
    "\n",
    "lable_y_valid = one_hot_encoded_array\n",
    "\n",
    "lable_y_valid.shape"
   ]
  },
  {
   "cell_type": "code",
   "execution_count": null,
   "metadata": {},
   "outputs": [],
   "source": [
    "import tensorflow as tf\n",
    "from tensorflow.keras import layers\n",
    "\n",
    "# Assuming you have input train data with shape (4023, 50, 50) and corresponding labels with shape (4023, 4)\n",
    "train_data =  image_list_train # Replace this with your actual train data\n",
    "train_labels = lable_y_train  # Replace this with your actual train labels\n",
    "valid_data = image_list_valid\n",
    "valid_labels = lable_y_valid\n",
    "# Define the model architecture\n",
    "model = tf.keras.Sequential([\n",
    "    layers.Conv2D(32, kernel_size=(3, 3), activation='relu', input_shape=(50, 50, 1)),\n",
    "    layers.MaxPooling2D(pool_size=(2, 2)),\n",
    "    layers.Conv2D(64, kernel_size=(3, 3), activation='relu'),\n",
    "    layers.MaxPooling2D(pool_size=(2, 2)),\n",
    "    layers.Flatten(),\n",
    "    layers.Dense(128, activation='relu'),\n",
    "    layers.Dense(4, activation='softmax')\n",
    "])\n",
    "\n",
    "\n",
    "# Compile the model\n",
    "model.compile(optimizer='adam',\n",
    "              loss='categorical_crossentropy',\n",
    "              metrics=['accuracy'])\n",
    "\n",
    "# Train the model\n",
    "history = model.fit(train_data, train_labels, epochs=50, batch_size=32, validation_data=(valid_data,valid_labels))"
   ]
  },
  {
   "cell_type": "code",
   "execution_count": 30,
   "metadata": {},
   "outputs": [
    {
     "name": "stdout",
     "output_type": "stream",
     "text": [
      "\u001b[1m8/8\u001b[0m \u001b[32m━━━━━━━━━━━━━━━━━━━━\u001b[0m\u001b[37m\u001b[0m \u001b[1m0s\u001b[0m 34ms/step\n"
     ]
    }
   ],
   "source": [
    "predicted_classes = model.predict(image_list_test)"
   ]
  },
  {
   "cell_type": "code",
   "execution_count": 31,
   "metadata": {},
   "outputs": [
    {
     "data": {
      "text/plain": [
       "{'Cavity', 'Fillings', 'Impacted Tooth', 'Implant'}"
      ]
     },
     "execution_count": 31,
     "metadata": {},
     "output_type": "execute_result"
    }
   ],
   "source": [
    "set(label_list_test)"
   ]
  },
  {
   "cell_type": "code",
   "execution_count": 32,
   "metadata": {},
   "outputs": [
    {
     "name": "stdout",
     "output_type": "stream",
     "text": [
      "['Implant', 'Implant', 'Impacted Tooth', 'Implant', 'Fillings', 'Implant', 'Implant', 'Impacted Tooth', 'Impacted Tooth', 'Impacted Tooth', 'Fillings', 'Fillings', 'Fillings', 'Fillings', 'Implant', 'Implant', 'Implant', 'Implant', 'Implant', 'Fillings', 'Fillings', 'Cavity', 'Fillings', 'Impacted Tooth', 'Fillings', 'Implant', 'Fillings', 'Cavity', 'Cavity', 'Fillings', 'Fillings', 'Fillings', 'Fillings', 'Fillings', 'Impacted Tooth', 'Impacted Tooth', 'Fillings', 'Implant', 'Implant', 'Implant', 'Fillings', 'Fillings', 'Fillings', 'Fillings', 'Fillings', 'Implant', 'Fillings', 'Fillings', 'Fillings', 'Fillings', 'Fillings', 'Fillings', 'Fillings', 'Implant', 'Fillings', 'Fillings', 'Fillings', 'Fillings', 'Impacted Tooth', 'Fillings', 'Fillings', 'Impacted Tooth', 'Implant', 'Impacted Tooth', 'Fillings', 'Fillings', 'Fillings', 'Fillings', 'Fillings', 'Fillings', 'Fillings', 'Fillings', 'Fillings', 'Implant', 'Implant', 'Implant', 'Implant', 'Fillings', 'Fillings', 'Cavity', 'Implant', 'Implant', 'Implant', 'Fillings', 'Fillings', 'Fillings', 'Fillings', 'Implant', 'Fillings', 'Implant', 'Fillings', 'Fillings', 'Fillings', 'Fillings', 'Impacted Tooth', 'Fillings', 'Fillings', 'Fillings', 'Fillings', 'Impacted Tooth', 'Impacted Tooth', 'Fillings', 'Fillings', 'Fillings', 'Fillings', 'Fillings', 'Fillings', 'Fillings', 'Fillings', 'Implant', 'Fillings', 'Fillings', 'Fillings', 'Fillings', 'Fillings', 'Fillings', 'Fillings', 'Cavity', 'Fillings', 'Fillings', 'Fillings', 'Fillings', 'Fillings', 'Implant', 'Implant', 'Cavity', 'Implant', 'Fillings', 'Fillings', 'Fillings', 'Fillings', 'Implant', 'Implant', 'Fillings', 'Fillings', 'Fillings', 'Fillings', 'Impacted Tooth', 'Impacted Tooth', 'Cavity', 'Fillings', 'Fillings', 'Fillings', 'Fillings', 'Fillings', 'Fillings', 'Fillings', 'Fillings', 'Fillings', 'Fillings', 'Implant', 'Implant', 'Implant', 'Implant', 'Implant', 'Implant', 'Implant', 'Implant', 'Impacted Tooth', 'Fillings', 'Fillings', 'Fillings', 'Fillings', 'Fillings', 'Impacted Tooth', 'Implant', 'Fillings', 'Fillings', 'Fillings', 'Implant', 'Fillings', 'Fillings', 'Implant', 'Impacted Tooth', 'Fillings', 'Fillings', 'Fillings', 'Fillings', 'Fillings', 'Implant', 'Implant', 'Fillings', 'Fillings', 'Implant', 'Implant', 'Fillings', 'Fillings', 'Fillings', 'Fillings', 'Fillings', 'Fillings', 'Implant', 'Fillings', 'Fillings', 'Fillings', 'Fillings', 'Fillings', 'Implant', 'Fillings', 'Fillings', 'Fillings', 'Fillings', 'Impacted Tooth', 'Fillings', 'Implant', 'Fillings', 'Implant', 'Fillings', 'Implant', 'Implant', 'Cavity', 'Fillings', 'Fillings', 'Fillings', 'Fillings', 'Fillings', 'Fillings', 'Fillings', 'Implant', 'Impacted Tooth', 'Fillings', 'Fillings', 'Fillings', 'Fillings', 'Fillings', 'Fillings', 'Implant', 'Fillings', 'Implant', 'Implant', 'Fillings', 'Fillings', 'Fillings', 'Impacted Tooth', 'Implant', 'Fillings', 'Fillings']\n"
     ]
    }
   ],
   "source": [
    "predicted_labels = np.argmax(predicted_classes, axis=1)\n",
    "\n",
    "# Map class labels to class names\n",
    "class_names = ['Cavity', 'Fillings', 'Impacted Tooth', 'Implant']\n",
    "predicted_class_names = [class_names[label] for label in predicted_labels]\n",
    "\n",
    "# Print the predicted class names\n",
    "print(predicted_class_names)\n"
   ]
  },
  {
   "cell_type": "code",
   "execution_count": 33,
   "metadata": {},
   "outputs": [
    {
     "data": {
      "image/png": "[encoded data removed]",
      "text/plain": [
       "<Figure size 640x480 with 1 Axes>"
      ]
     },
     "metadata": {},
     "output_type": "display_data"
    }
   ],
   "source": [
    "from sklearn.metrics import confusion_matrix\n",
    "\n",
    "\n",
    "# Compute the confusion matrix\n",
    "cm = confusion_matrix(label_list_test, predicted_class_names)\n",
    "\n",
    "# Define class names (adjust according to your specific class names)\n",
    "class_names = ['Cavity', 'Fillings', 'Impacted Tooth', 'Implant']\n",
    "\n",
    "# Create a figure and axis\n",
    "fig, ax = plt.subplots()\n",
    "\n",
    "# Create a heatmap from the confusion matrix\n",
    "heatmap = sns.heatmap(cm, annot=True, fmt='d', cmap='Blues', cbar=False, ax=ax)\n",
    "\n",
    "# Set axis labels and title\n",
    "ax.set_xlabel('Predicted Labels')\n",
    "ax.set_ylabel('True Labels')\n",
    "ax.set_title('Confusion Matrix')\n",
    "\n",
    "# Set x-axis tick labels\n",
    "heatmap.set_xticklabels(class_names)\n",
    "heatmap.set_yticklabels(class_names)\n",
    "\n",
    "# Rotate x-axis tick labels for better visibility\n",
    "plt.xticks(rotation=45)\n",
    "\n",
    "# Show the plot\n",
    "plt.show()\n"
   ]
  }
 ],
 "metadata": {
  "kernelspec": {
   "display_name": "Python 3",
   "language": "python",
   "name": "python3"
  },
  "language_info": {
   "codemirror_mode": {
    "name": "ipython",
    "version": 3
   },
   "file_extension": ".py",
   "mimetype": "text/x-python",
   "name": "python",
   "nbconvert_exporter": "python",
   "pygments_lexer": "ipython3",
   "version": "3.11.0"
  }
 },
 "nbformat": 4,
 "nbformat_minor": 2
}
